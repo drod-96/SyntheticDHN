{
 "cells": [
  {
   "cell_type": "markdown",
   "metadata": {},
   "source": [
    "This notebook shows how to generate a synthetic District Heating Network (DHN) using the developed models.\n",
    "\n",
    "A graph generator generates a random graph mimicking DHN topology and a heating model generates demands for the substation nodes."
   ]
  },
  {
   "cell_type": "markdown",
   "metadata": {},
   "source": [
    "#### Loading python packages"
   ]
  },
  {
   "cell_type": "code",
   "execution_count": null,
   "metadata": {},
   "outputs": [],
   "source": [
    "# Packages\n",
    "\n",
    "import os\n",
    "import networkx as nx\n",
    "import sys\n",
    "import os\n",
    "from src.graph_generator import GraphDHNGenerator\n",
    "from src.graph_generator_params import GraphGeneratorParameters\n",
    "from src.dhn_topology import DHNTopology\n",
    "from src.demands_model_dpe import generate_substation_demands\n",
    "\n",
    "import matplotlib.pyplot as plt\n",
    "import matplotlib as mpt\n",
    "from cycler import cycler\n",
    "\n",
    "mpt.rcParams['lines.linewidth'] = 1.4\n",
    "mpt.rcParams['font.size'] = 12\n",
    "mpt.rcParams['axes.prop_cycle'] = cycler(color=['r', 'g', 'b', 'y'])\n",
    "plt.style.use('ggplot')\n"
   ]
  },
  {
   "cell_type": "markdown",
   "metadata": {},
   "source": [
    "#### Synthetic DHN generator"
   ]
  },
  {
   "cell_type": "markdown",
   "metadata": {},
   "source": [
    "We define control parameters including the number of connected regions, number of degree max per node, the number of nodes per regions, and the *target ratio* between number of edges and number of nodes. \n",
    "Other control parameters may be defined. For more detail, the reader is encouraged to take a look at the class **GraphGeneratorParameters**.\n",
    "\n",
    "\n",
    "The target ratio has been introduced to influence the *presence of loops* inside the DHN. From expertise point of view, DHNs have low mean nodes degree and have few or none loops."
   ]
  },
  {
   "cell_type": "code",
   "execution_count": null,
   "metadata": {},
   "outputs": [],
   "source": [
    "params = GraphGeneratorParameters(target_ratio=1.01, nb_regions=3, nb_nodes_per_region=40, E_rp=0.5, E_ee=0.1, edge_weight_mean=1.0, edge_weight_std=0.1, nb_producers_to_reach=3)"
   ]
  },
  {
   "cell_type": "markdown",
   "metadata": {},
   "source": [
    "Then, we create a random graph generator object (**GraphDHNGenerator**) which uses the control parameters as properties."
   ]
  },
  {
   "cell_type": "code",
   "execution_count": null,
   "metadata": {},
   "outputs": [],
   "source": [
    "generator = GraphDHNGenerator(params)"
   ]
  },
  {
   "cell_type": "markdown",
   "metadata": {},
   "source": [
    "Now, we have everything to generate a random DHN. To do so, we call a function of the class **GraphDHNGenerator**."
   ]
  },
  {
   "cell_type": "code",
   "execution_count": null,
   "metadata": {},
   "outputs": [],
   "source": [
    "generator.generate_random_connected_dhn()\n",
    "\n",
    "# We shown the number of producers and the number of nodes of the DHN generated.\n",
    "print(f'Producers are = {generator.producer_indices}')\n",
    "print(f'Number of nodes are = {len(generator.node_positions)}')"
   ]
  },
  {
   "cell_type": "markdown",
   "metadata": {},
   "source": [
    "#### DHN topology file"
   ]
  },
  {
   "cell_type": "markdown",
   "metadata": {},
   "source": [
    "From the generated DHN, we generate a topology file in excel format containing the information of the substation nodes, the pipes and the heating demands of the nodes.\n",
    "\n",
    "The following cell may take few minutes. "
   ]
  },
  {
   "cell_type": "code",
   "execution_count": null,
   "metadata": {},
   "outputs": [],
   "source": [
    "topology_dhn = DHNTopology(generator, \n",
    "                           graph_folder_name = 'DHN1',\n",
    "                           heating_demand_model=2) # If 1 use heating law, 2 use DPE French data"
   ]
  },
  {
   "cell_type": "markdown",
   "metadata": {},
   "source": [
    "### Generating 100 synthetic DHNs"
   ]
  },
  {
   "cell_type": "markdown",
   "metadata": {},
   "source": [
    "Here, we generate 100 synthetic DHNs. Note that this code may take several minutes. "
   ]
  },
  {
   "cell_type": "code",
   "execution_count": null,
   "metadata": {},
   "outputs": [],
   "source": [
    "import random\n",
    "\n",
    "for i in range(40,100):\n",
    "    nb_regions = random.randint(2, 5) # Between 2 and 5 regions\n",
    "    nb_nodes_per_region = random.randint(30, 41) # Between 10 to 40 nodes per region\n",
    "    nb_producers_to_reach = random.randint(1, nb_regions) # Between 1 to the number of regions\n",
    "    params = GraphGeneratorParameters(target_ratio=1.01, nb_regions=nb_regions, nb_nodes_per_region=nb_nodes_per_region, E_rp=0.5, E_ee=0.1, edge_weight_mean=1.0, edge_weight_std=0.1, nb_producers_to_reach=nb_producers_to_reach)\n",
    "    generator = GraphDHNGenerator(params)\n",
    "    generator.generate_random_connected_dhn()\n",
    "    topology_dhn = DHNTopology(generator, \n",
    "                               graph_folder_name = f'synthetic_dhn_{i}',\n",
    "                                heating_demand_model=2) # If 1 use heating law, 2 use DPE French data"
   ]
  }
 ],
 "metadata": {
  "kernelspec": {
   "display_name": ".env",
   "language": "python",
   "name": "python3"
  },
  "language_info": {
   "codemirror_mode": {
    "name": "ipython",
    "version": 3
   },
   "file_extension": ".py",
   "mimetype": "text/x-python",
   "name": "python",
   "nbconvert_exporter": "python",
   "pygments_lexer": "ipython3",
   "version": "3.9.12"
  }
 },
 "nbformat": 4,
 "nbformat_minor": 2
}
