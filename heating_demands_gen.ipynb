{
 "cells": [
  {
   "cell_type": "code",
   "execution_count": 1,
   "metadata": {},
   "outputs": [],
   "source": [
    "# Python packages\n",
    "\n",
    "import pandas as pd\n",
    "import matplotlib.pyplot as plt\n",
    "from dateutil.parser import parse  \n",
    "import numpy as np\n",
    "import os"
   ]
  },
  {
   "cell_type": "code",
   "execution_count": 2,
   "metadata": {},
   "outputs": [],
   "source": [
    "## Arange errors in pipes indices\n",
    "\n",
    "### --> Generated code from Gemini\n",
    "import os\n",
    "from openpyxl import load_workbook\n",
    "\n",
    "def update_xlsx_files(folder_path):\n",
    "  \"\"\"\n",
    "  This function iterates through all .xlsx files in a folder,\n",
    "  opens the sheet named \"pipes\", adds 1 to \"x\" and \"y\" columns,\n",
    "  and saves the modified file.\n",
    "  \"\"\"\n",
    "  for file_dir in os.listdir(folder_path):\n",
    "    for filename in os.listdir(os.path.join(folder_path, file_dir)):\n",
    "        print(filename)\n",
    "        if filename.endswith(\".xlsx\"):\n",
    "          try:\n",
    "              filepath = os.path.join(folder_path, file_dir, filename)\n",
    "              workbook = load_workbook(filepath)\n",
    "              worksheet = workbook[\"pipes\"]\n",
    "              \n",
    "              # Iterate through rows (skipping the header row)\n",
    "              for row in worksheet.iter_rows(min_row=2):\n",
    "                  row[0].value += 1  # Update cell value in \"start node\" column (index 0)\n",
    "                  row[1].value += 1  # Update cell value in \"end node\" column (index 2)\n",
    "              \n",
    "              workbook.save(filepath)\n",
    "              print(f\"File '{filepath}' updated successfully!\")\n",
    "              \n",
    "          except Exception as ex:\n",
    "              print(ex)\n",
    "            \n",
    "def update_xlsx_files_v2(filepath):\n",
    "  \"\"\"\n",
    "  This function iterates through all .xlsx files in a folder,\n",
    "  opens the sheet named \"pipes\", adds 1 to \"x\" and \"y\" columns using vectorized operations,\n",
    "  and saves the modified file.\n",
    "  \"\"\"\n",
    "  workbook = load_workbook(filepath)\n",
    "  worksheet = workbook[\"pipes\"]\n",
    "  \n",
    "  # Get data for \"x\" and \"y\" columns as separate lists (assuming numeric data)\n",
    "  x_data = list(cell.value for cell in worksheet[\"B\"])[1:]  # Skip header row (index starts at 1)\n",
    "  y_data = list(cell.value for cell in worksheet[\"C\"])[1:]\n",
    "  \n",
    "  # Add 1 to all elements in lists using vectorized operation\n",
    "  x_data = [x + 1 for x in x_data]\n",
    "  y_data = [y + 1 for y in y_data]\n",
    "  \n",
    "  # Update data back to the sheet (assuming columns B and C)\n",
    "  for i, value in enumerate(x_data, start=2):  # Start at row 2 (index)\n",
    "    worksheet.cell(row=i, column=2).value = value\n",
    "  for i, value in enumerate(y_data, start=2):\n",
    "    worksheet.cell(row=i, column=3).value = value\n",
    "  \n",
    "  workbook.save(filepath)\n",
    "  print(f\"File '{filepath}' updated successfully!\")\n",
    "      \n",
    "def modify_excel_file(file_path):\n",
    "    # Load the workbook and select the \"pipes\" sheet\n",
    "    workbook = load_workbook(file_path)\n",
    "    if \"pipes\" in workbook.sheetnames:\n",
    "        sheet = workbook[\"pipes\"]\n",
    "        \n",
    "        # Iterate over the rows and modify the values in columns \"x\" and \"y\"\n",
    "        for row in sheet.iter_rows(min_row=2, min_col=1, max_col=2):  # Assuming headers are in the first row\n",
    "            for cell in row:\n",
    "                if cell.column_letter in ['start node', 'end node']:  # Assuming 'x' is in column A and 'y' in column B\n",
    "                    try:\n",
    "                        cell.value = cell.value + 1\n",
    "                    except TypeError:\n",
    "                        pass  # In case the cell is not numeric, do nothing\n",
    "\n",
    "        # Save the changes\n",
    "        workbook.save(file_path)\n",
    "\n",
    "# # Replace 'path/to/your/folder' with the actual folder path containing .xlsx files\n",
    "# folder_path = 'Synthetic_DHNs'\n",
    "# update_xlsx_files(folder_path)"
   ]
  },
  {
   "cell_type": "code",
   "execution_count": 31,
   "metadata": {},
   "outputs": [
    {
     "name": "stdout",
     "output_type": "stream",
     "text": [
      "topology.xlsx\n",
      "File 'Synthetic_DHNs\\DHN1\\topology.xlsx' updated successfully!\n",
      "topology.xlsx\n",
      "File 'Synthetic_DHNs\\Generated_DHN\\topology.xlsx' updated successfully!\n",
      "topology.xlsx\n",
      "File 'Synthetic_DHNs\\synthetic_dhn_0\\topology.xlsx' updated successfully!\n",
      "topology.xlsx\n",
      "File 'Synthetic_DHNs\\synthetic_dhn_1\\topology.xlsx' updated successfully!\n",
      "topology.xlsx\n",
      "File 'Synthetic_DHNs\\synthetic_dhn_10\\topology.xlsx' updated successfully!\n",
      "topology.xlsx\n",
      "File 'Synthetic_DHNs\\synthetic_dhn_11\\topology.xlsx' updated successfully!\n",
      "topology.xlsx\n",
      "File 'Synthetic_DHNs\\synthetic_dhn_12\\topology.xlsx' updated successfully!\n",
      "topology.xlsx\n",
      "File 'Synthetic_DHNs\\synthetic_dhn_13\\topology.xlsx' updated successfully!\n",
      "topology.xlsx\n",
      "File 'Synthetic_DHNs\\synthetic_dhn_14\\topology.xlsx' updated successfully!\n",
      "topology.xlsx\n",
      "File 'Synthetic_DHNs\\synthetic_dhn_15\\topology.xlsx' updated successfully!\n",
      "topology.xlsx\n",
      "File 'Synthetic_DHNs\\synthetic_dhn_16\\topology.xlsx' updated successfully!\n",
      "topology.xlsx\n",
      "File 'Synthetic_DHNs\\synthetic_dhn_17\\topology.xlsx' updated successfully!\n",
      "topology.xlsx\n",
      "File 'Synthetic_DHNs\\synthetic_dhn_18\\topology.xlsx' updated successfully!\n",
      "topology.xlsx\n",
      "File 'Synthetic_DHNs\\synthetic_dhn_19\\topology.xlsx' updated successfully!\n",
      "topology.xlsx\n",
      "File 'Synthetic_DHNs\\synthetic_dhn_2\\topology.xlsx' updated successfully!\n",
      "topology.xlsx\n",
      "File is not a zip file\n",
      "topology.xlsx\n",
      "File 'Synthetic_DHNs\\synthetic_dhn_22\\topology.xlsx' updated successfully!\n",
      "topology.xlsx\n",
      "File 'Synthetic_DHNs\\synthetic_dhn_23\\topology.xlsx' updated successfully!\n",
      "topology.xlsx\n",
      "File 'Synthetic_DHNs\\synthetic_dhn_24\\topology.xlsx' updated successfully!\n",
      "topology.xlsx\n",
      "File 'Synthetic_DHNs\\synthetic_dhn_25\\topology.xlsx' updated successfully!\n",
      "topology.xlsx\n",
      "File 'Synthetic_DHNs\\synthetic_dhn_26\\topology.xlsx' updated successfully!\n",
      "topology.xlsx\n",
      "File 'Synthetic_DHNs\\synthetic_dhn_27\\topology.xlsx' updated successfully!\n",
      "topology.xlsx\n",
      "File 'Synthetic_DHNs\\synthetic_dhn_28\\topology.xlsx' updated successfully!\n",
      "topology.xlsx\n",
      "File 'Synthetic_DHNs\\synthetic_dhn_29\\topology.xlsx' updated successfully!\n",
      "topology.xlsx\n",
      "File 'Synthetic_DHNs\\synthetic_dhn_3\\topology.xlsx' updated successfully!\n",
      "topology.xlsx\n",
      "File 'Synthetic_DHNs\\synthetic_dhn_30\\topology.xlsx' updated successfully!\n",
      "topology.xlsx\n",
      "File 'Synthetic_DHNs\\synthetic_dhn_31\\topology.xlsx' updated successfully!\n",
      "topology.xlsx\n",
      "File 'Synthetic_DHNs\\synthetic_dhn_32\\topology.xlsx' updated successfully!\n",
      "topology.xlsx\n",
      "File 'Synthetic_DHNs\\synthetic_dhn_33\\topology.xlsx' updated successfully!\n",
      "topology.xlsx\n",
      "File 'Synthetic_DHNs\\synthetic_dhn_34\\topology.xlsx' updated successfully!\n",
      "topology.xlsx\n",
      "File 'Synthetic_DHNs\\synthetic_dhn_35\\topology.xlsx' updated successfully!\n",
      "topology.xlsx\n",
      "File 'Synthetic_DHNs\\synthetic_dhn_36\\topology.xlsx' updated successfully!\n",
      "topology.xlsx\n",
      "File 'Synthetic_DHNs\\synthetic_dhn_37\\topology.xlsx' updated successfully!\n",
      "topology.xlsx\n",
      "File 'Synthetic_DHNs\\synthetic_dhn_38\\topology.xlsx' updated successfully!\n",
      "topology.xlsx\n",
      "File 'Synthetic_DHNs\\synthetic_dhn_39\\topology.xlsx' updated successfully!\n",
      "topology.xlsx\n",
      "File 'Synthetic_DHNs\\synthetic_dhn_4\\topology.xlsx' updated successfully!\n",
      "topology.xlsx\n",
      "File 'Synthetic_DHNs\\synthetic_dhn_40\\topology.xlsx' updated successfully!\n",
      "topology.xlsx\n",
      "File 'Synthetic_DHNs\\synthetic_dhn_41\\topology.xlsx' updated successfully!\n",
      "topology.xlsx\n",
      "File 'Synthetic_DHNs\\synthetic_dhn_42\\topology.xlsx' updated successfully!\n",
      "topology.xlsx\n",
      "File 'Synthetic_DHNs\\synthetic_dhn_43\\topology.xlsx' updated successfully!\n",
      "topology.xlsx\n",
      "File 'Synthetic_DHNs\\synthetic_dhn_44\\topology.xlsx' updated successfully!\n",
      "topology.xlsx\n",
      "File 'Synthetic_DHNs\\synthetic_dhn_45\\topology.xlsx' updated successfully!\n",
      "topology.xlsx\n",
      "File 'Synthetic_DHNs\\synthetic_dhn_46\\topology.xlsx' updated successfully!\n",
      "topology.xlsx\n",
      "File 'Synthetic_DHNs\\synthetic_dhn_5\\topology.xlsx' updated successfully!\n",
      "topology.xlsx\n",
      "File 'Synthetic_DHNs\\synthetic_dhn_6\\topology.xlsx' updated successfully!\n",
      "topology.xlsx\n",
      "File 'Synthetic_DHNs\\synthetic_dhn_7\\topology.xlsx' updated successfully!\n",
      "topology.xlsx\n",
      "File 'Synthetic_DHNs\\synthetic_dhn_8\\topology.xlsx' updated successfully!\n",
      "topology.xlsx\n",
      "File 'Synthetic_DHNs\\synthetic_dhn_9\\topology.xlsx' updated successfully!\n"
     ]
    }
   ],
   "source": [
    "# # Replace 'path/to/your/folder' with the actual folder path containing .xlsx files\n",
    "folder_path = 'Synthetic_DHNs'\n",
    "update_xlsx_files(folder_path)"
   ]
  },
  {
   "cell_type": "code",
   "execution_count": null,
   "metadata": {},
   "outputs": [],
   "source": [
    "excel_files_paths = []\n",
    "for file_dir in os.listdir(folder_path):\n",
    "    for filename in os.listdir(os.path.join(folder_path, file_dir)):\n",
    "        if filename.endswith(\".xlsx\"):\n",
    "            filepath = os.path.join(folder_path, file_dir, filename)\n",
    "            excel_files_paths.append(filepath)"
   ]
  },
  {
   "cell_type": "code",
   "execution_count": null,
   "metadata": {},
   "outputs": [],
   "source": [
    "for file in excel_files_paths[2:]:\n",
    "    if os.path.isfile(file):\n",
    "        # modify_excel_file(file)\n",
    "        update_xlsx_files_v2(file)\n",
    "    else:\n",
    "        print(f\"File not found: {file}\")"
   ]
  },
  {
   "cell_type": "code",
   "execution_count": 20,
   "metadata": {},
   "outputs": [
    {
     "data": {
      "text/plain": [
       "'Synthetic_DHNs\\\\synthetic_dhn_0\\\\topology.xlsx'"
      ]
     },
     "execution_count": 20,
     "metadata": {},
     "output_type": "execute_result"
    }
   ],
   "source": [
    "file"
   ]
  },
  {
   "cell_type": "code",
   "execution_count": 24,
   "metadata": {},
   "outputs": [
    {
     "data": {
      "text/plain": [
       "True"
      ]
     },
     "execution_count": 24,
     "metadata": {},
     "output_type": "execute_result"
    }
   ],
   "source": [
    "os.path.isfile(file)"
   ]
  },
  {
   "cell_type": "code",
   "execution_count": 10,
   "metadata": {},
   "outputs": [],
   "source": [
    "heating_profiles = pd.read_csv(os.path.join('src', 'files', 'heating_demands_profiles_v2.csv'))"
   ]
  },
  {
   "cell_type": "code",
   "execution_count": 11,
   "metadata": {},
   "outputs": [
    {
     "data": {
      "text/plain": [
       "[<matplotlib.lines.Line2D at 0x15690f83550>]"
      ]
     },
     "execution_count": 11,
     "metadata": {},
     "output_type": "execute_result"
    },
    {
     "data": {
      "image/png": "[encoded data removed]",
      "text/plain": [
       "<Figure size 640x480 with 1 Axes>"
      ]
     },
     "metadata": {},
     "output_type": "display_data"
    }
   ],
   "source": [
    "plt.plot(heating_profiles['SFH'][:])"
   ]
  },
  {
   "cell_type": "code",
   "execution_count": null,
   "metadata": {},
   "outputs": [],
   "source": []
  }
 ],
 "metadata": {
  "kernelspec": {
   "display_name": ".env",
   "language": "python",
   "name": "python3"
  },
  "language_info": {
   "codemirror_mode": {
    "name": "ipython",
    "version": 3
   },
   "file_extension": ".py",
   "mimetype": "text/x-python",
   "name": "python",
   "nbconvert_exporter": "python",
   "pygments_lexer": "ipython3",
   "version": "3.9.12"
  }
 },
 "nbformat": 4,
 "nbformat_minor": 2
}
